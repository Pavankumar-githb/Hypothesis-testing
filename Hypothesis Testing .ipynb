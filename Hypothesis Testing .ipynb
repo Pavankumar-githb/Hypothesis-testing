{
 "cells": [
  {
   "cell_type": "code",
   "execution_count": 1,
   "id": "53102c22",
   "metadata": {},
   "outputs": [
    {
     "name": "stdout",
     "output_type": "stream",
     "text": [
      "Hypothesis Testing Results\n",
      "Theoretical Mean (μ): 4000\n",
      "Standard Deviation of W (σ_W): 125\n",
      "Test Statistic (t): -38.0000\n",
      "Critical Value (Z_critical): 1.6449\n",
      "Decision: Fail to Reject Null Hypothesis\n",
      "Conclusion: There is not enough evidence to support the claim that the weekly operating costs are higher than the model suggests.\n"
     ]
    }
   ],
   "source": [
    "import scipy.stats as stats\n",
    "import math\n",
    "\n",
    "# Given data\n",
    "sample_mean = 3050  # Sample mean weekly cost\n",
    "X_mean = 600  # Mean number of units produced\n",
    "std_dev_X = 25  # Standard deviation of X\n",
    "n = 25  # Sample size\n",
    "alpha = 0.05  # Significance level\n",
    "\n",
    "# Calculate the theoretical mean weekly cost (μ) using the cost model\n",
    "mu = 1000 + (5 * X_mean)\n",
    "\n",
    "# Calculate the standard deviation of W\n",
    "sigma_W = 5 * std_dev_X\n",
    "\n",
    "# Calculate the test statistic (t-score)\n",
    "t_statistic = (sample_mean - mu) / (sigma_W / math.sqrt(n))\n",
    "\n",
    "# Determine the critical value (one-tailed test, upper tail)\n",
    "z_critical = stats.norm.ppf(1 - alpha)\n",
    "\n",
    "# Decision Rule\n",
    "reject_null = t_statistic > z_critical\n",
    "\n",
    "# Print Results\n",
    "print(\"Hypothesis Testing Results\")\n",
    "print(f\"Theoretical Mean (μ): {mu}\")\n",
    "print(f\"Standard Deviation of W (σ_W): {sigma_W}\")\n",
    "print(f\"Test Statistic (t): {t_statistic:.4f}\")\n",
    "print(f\"Critical Value (Z_critical): {z_critical:.4f}\")\n",
    "print(\"Decision: Reject Null Hypothesis\" if reject_null else \"Decision: Fail to Reject Null Hypothesis\")\n",
    "\n",
    "# Conclusion\n",
    "if reject_null:\n",
    "    print(\"Conclusion: There is strong evidence to support the restaurant owners' claim that the weekly operating costs are higher than the model suggests.\")\n",
    "else:\n",
    "    print(\"Conclusion: There is not enough evidence to support the claim that the weekly operating costs are higher than the model suggests.\")\n"
   ]
  },
  {
   "cell_type": "code",
   "execution_count": null,
   "id": "d1fe4b78",
   "metadata": {},
   "outputs": [],
   "source": []
  }
 ],
 "metadata": {
  "kernelspec": {
   "display_name": "Python 3 (ipykernel)",
   "language": "python",
   "name": "python3"
  },
  "language_info": {
   "codemirror_mode": {
    "name": "ipython",
    "version": 3
   },
   "file_extension": ".py",
   "mimetype": "text/x-python",
   "name": "python",
   "nbconvert_exporter": "python",
   "pygments_lexer": "ipython3",
   "version": "3.11.5"
  }
 },
 "nbformat": 4,
 "nbformat_minor": 5
}
