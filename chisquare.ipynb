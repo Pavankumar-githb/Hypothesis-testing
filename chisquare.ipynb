{
  "nbformat": 4,
  "nbformat_minor": 0,
  "metadata": {
    "colab": {
      "provenance": []
    },
    "kernelspec": {
      "name": "python3",
      "display_name": "Python 3"
    },
    "language_info": {
      "name": "python"
    }
  },
  "cells": [
    {
      "cell_type": "code",
      "execution_count": null,
      "metadata": {
        "colab": {
          "base_uri": "https://localhost:8080/"
        },
        "id": "9BI6EAujZx8q",
        "outputId": "5cdc557b-93b8-4d0c-d817-ff84dcbc03f2"
      },
      "outputs": [
        {
          "output_type": "stream",
          "name": "stdout",
          "text": [
            "Mounted at /content/drive\n"
          ]
        }
      ],
      "source": [
        "from google.colab import drive\n",
        "drive.mount('/content/drive')"
      ]
    },
    {
      "cell_type": "code",
      "source": [
        "import numpy as np\n",
        "import scipy.stats as stats\n",
        "\n",
        "# Step 1: Define the contingency table\n",
        "data = np.array([[50, 70],  # Very Satisfied\n",
        "                 [80, 100], # Satisfied\n",
        "                 [60, 90],  # Neutral\n",
        "                 [30, 50],  # Unsatisfied\n",
        "                 [20, 50]]) # Very Unsatisfied\n",
        "\n",
        "# Step 2: Perform the Chi-Square test\n",
        "chi2_stat, p_value, dof, expected = stats.chi2_contingency(data)\n",
        "\n",
        "# Step 3: Determine the critical value\n",
        "alpha = 0.05  # Significance level\n",
        "critical_value = stats.chi2.ppf(1 - alpha, dof)\n",
        "\n",
        "# Step 4: Decision making\n",
        "if chi2_stat > critical_value:\n",
        "    decision = \"Reject the null hypothesis: There is a significant association between device type and customer satisfaction.\"\n",
        "else:\n",
        "    decision = \"Fail to reject the null hypothesis: No significant association between device type and customer satisfaction.\"\n",
        "\n",
        "# Print results\n",
        "print(f\"Chi-Square Statistic: {chi2_stat:.4f}\")  # Expected: 5.6382\n",
        "print(f\"P-Value: {p_value:.4f}\")  # Expected: 0.2278\n",
        "print(f\"Degrees of Freedom: {dof}\")  # Expected: 4\n",
        "print(f\"Critical Value: {critical_value:.4f}\")  # Expected: 9.4877\n",
        "print(decision)  # Expected: Fail to reject the null hypothesis\n"
      ],
      "metadata": {
        "colab": {
          "base_uri": "https://localhost:8080/"
        },
        "id": "y-tmUDUTaVvs",
        "outputId": "cd80dbbe-241b-4dd5-9429-b2c3ac5fd1ac"
      },
      "execution_count": null,
      "outputs": [
        {
          "output_type": "stream",
          "name": "stdout",
          "text": [
            "Chi-Square Statistic: 5.6382\n",
            "P-Value: 0.2278\n",
            "Degrees of Freedom: 4\n",
            "Critical Value: 9.4877\n",
            "Fail to reject the null hypothesis: No significant association between device type and customer satisfaction.\n"
          ]
        }
      ]
    },
    {
      "cell_type": "code",
      "source": [],
      "metadata": {
        "id": "S9vPf_fTaqzs"
      },
      "execution_count": null,
      "outputs": []
    }
  ]
}